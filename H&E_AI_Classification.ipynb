{
 "cells": [
  {
   "cell_type": "markdown",
   "metadata": {},
   "source": [
    "### Load All The Necessary Libraries"
   ]
  },
  {
   "cell_type": "code",
   "execution_count": 1,
   "metadata": {},
   "outputs": [
    {
     "name": "stderr",
     "output_type": "stream",
     "text": [
      "Using TensorFlow backend.\n"
     ]
    }
   ],
   "source": [
    "import pandas as pd\n",
    "import numpy as np\n",
    "import matplotlib.pyplot as plt\n",
    "import seaborn as sns\n",
    "from sklearn.model_selection import train_test_split\n",
    "from sklearn.preprocessing import LabelEncoder\n",
    "from keras.models import Model\n",
    "from keras.layers import LSTM, Activation, Dense, Dropout, Input, Embedding\n",
    "from keras.layers import TimeDistributed\n",
    "from keras.layers import Bidirectional\n",
    "\n",
    "from keras.preprocessing.text import Tokenizer\n",
    "from keras.preprocessing import sequence\n",
    "from keras.utils import to_categorical\n",
    "from keras.callbacks import EarlyStopping\n",
    "from keras.utils import np_utils\n",
    "from keras.models import Sequential\n",
    "from keras.callbacks import ModelCheckpoint\n",
    "\n",
    "from keras.models import *\n",
    "from keras.layers import *\n",
    "from keras.optimizers import *\n",
    "import keras\n",
    "from keras import losses\n",
    "from keras import backend as K\n",
    "from keras.utils import to_categorical\n",
    "from keras.models import Sequential\n",
    "from keras.layers import Dense\n",
    "from keras.layers import Dropout\n",
    "from keras.layers import Conv2DTranspose\n",
    "from keras import optimizers\n",
    "from keras.optimizers import SGD\n",
    "from keras.optimizers import RMSprop\n",
    "from keras.optimizers import Adam\n",
    "from keras.layers.advanced_activations import ELU\n",
    "from keras.callbacks import ModelCheckpoint, EarlyStopping, ReduceLROnPlateau\n",
    "from tensorflow.python.platform import build_info as tf_build_info\n",
    "import pickle\n",
    "\n",
    "from keras.utils.vis_utils import plot_model\n",
    "\n",
    "%matplotlib inline"
   ]
  },
  {
   "cell_type": "code",
   "execution_count": 2,
   "metadata": {},
   "outputs": [],
   "source": [
    "import os\n",
    "import numpy as np\n",
    "import pandas as pd\n",
    "import matplotlib.pyplot as plt; \n",
    "\n",
    "import warnings\n",
    "warnings.filterwarnings('ignore')\n",
    "\n",
    "from keras.utils import plot_model\n",
    "from keras.utils.vis_utils import plot_model\n",
    "import pydot\n",
    "\n",
    "import sys\n",
    "import random\n",
    "import warnings\n",
    "\n",
    "from PIL import Image\n",
    "from skimage import data, io, filters\n",
    "import numpy as np\n",
    "import pandas as pd\n",
    "from scipy import ndimage\n",
    "from matplotlib import pyplot as plt\n",
    "import matplotlib.image as mpimg\n",
    "from keras.preprocessing.image import ImageDataGenerator\n",
    "from sklearn import manifold, datasets\n",
    "\n",
    "from tqdm import tqdm\n",
    "from itertools import chain\n",
    "from skimage.io import imread, imshow, imread_collection, concatenate_images\n",
    "from pylab import imread,subplot,imshow,show\n",
    "from skimage.transform import resize\n",
    "from skimage.morphology import label\n",
    "from keras.preprocessing import image\n",
    "import cv2\n",
    "\n",
    "import tensorflow as tf\n",
    "from tensorflow import keras\n",
    "import keras"
   ]
  },
  {
   "cell_type": "markdown",
   "metadata": {},
   "source": [
    "### Load Test Data for LSTM"
   ]
  },
  {
   "cell_type": "code",
   "execution_count": 4,
   "metadata": {},
   "outputs": [],
   "source": [
    "H = pd.read_csv(\"J:\\\\Chohee_paper_update\\\\Model Code & Trained Models\\\\Internal Test Set\\\\Grade3_vs_Grade5_H_FOS.csv\",sep=',',encoding=\"utf-8\",error_bad_lines=False,low_memory = False)\n",
    "\n",
    "E = pd.read_csv(\"J:\\\\Chohee_paper_update\\\\Model Code & Trained Models\\\\Internal Test Set\\\\Grade3_vs_Grade5_E_FOS.csv\",sep=',',encoding=\"utf-8\",error_bad_lines=False,low_memory = False)\n",
    "\n",
    "\n",
    "H_labels = H['Label']\n",
    "E_labels = E['Label']\n"
   ]
  },
  {
   "cell_type": "markdown",
   "metadata": {},
   "source": [
    "### Load Test Data for Machine Learning"
   ]
  },
  {
   "cell_type": "code",
   "execution_count": 19,
   "metadata": {},
   "outputs": [],
   "source": [
    "## Load Data For Machine Learning\n",
    "\n",
    "HE = pd.read_csv(\"J:\\\\Chohee_paper_update\\\\Model Code & Trained Models\\\\Internal Test Set\\\\Grade3_vs_Grade5_HE_FOS.csv\",sep=',',encoding=\"utf-8\",error_bad_lines=False,low_memory = False)\n",
    "# H_FOS['label_cat'] = H_FOS['Label'].map(lambda x: to_categorical(x, 1+Red_data['Label'].max()))\n",
    "\n",
    "HE_labels = HE['Label']\n",
    "\n",
    "# data = data.dropna()"
   ]
  },
  {
   "cell_type": "markdown",
   "metadata": {},
   "source": [
    "### Data Normalization for Machine Learning"
   ]
  },
  {
   "cell_type": "code",
   "execution_count": 20,
   "metadata": {},
   "outputs": [
    {
     "data": {
      "text/html": [
       "<div>\n",
       "<style scoped>\n",
       "    .dataframe tbody tr th:only-of-type {\n",
       "        vertical-align: middle;\n",
       "    }\n",
       "\n",
       "    .dataframe tbody tr th {\n",
       "        vertical-align: top;\n",
       "    }\n",
       "\n",
       "    .dataframe thead th {\n",
       "        text-align: right;\n",
       "    }\n",
       "</style>\n",
       "<table border=\"1\" class=\"dataframe\">\n",
       "  <thead>\n",
       "    <tr style=\"text-align: right;\">\n",
       "      <th></th>\n",
       "      <th>Energy_H</th>\n",
       "      <th>Entropy_H</th>\n",
       "      <th>Kurtosis_H</th>\n",
       "      <th>Skewness_H</th>\n",
       "      <th>Variance_H</th>\n",
       "      <th>Energy_H.1</th>\n",
       "      <th>Entropy_H.1</th>\n",
       "      <th>Kurtosis_H.1</th>\n",
       "      <th>Skewness_H.1</th>\n",
       "      <th>Variance_H.1</th>\n",
       "    </tr>\n",
       "  </thead>\n",
       "  <tbody>\n",
       "    <tr>\n",
       "      <td>0</td>\n",
       "      <td>-0.110679</td>\n",
       "      <td>0.423947</td>\n",
       "      <td>-0.391277</td>\n",
       "      <td>0.355951</td>\n",
       "      <td>-0.183506</td>\n",
       "      <td>-0.631378</td>\n",
       "      <td>0.161116</td>\n",
       "      <td>0.096084</td>\n",
       "      <td>0.576008</td>\n",
       "      <td>-0.234984</td>\n",
       "    </tr>\n",
       "    <tr>\n",
       "      <td>1</td>\n",
       "      <td>0.147303</td>\n",
       "      <td>0.470939</td>\n",
       "      <td>-0.381687</td>\n",
       "      <td>0.327270</td>\n",
       "      <td>-0.139225</td>\n",
       "      <td>-0.364966</td>\n",
       "      <td>0.834642</td>\n",
       "      <td>-0.399588</td>\n",
       "      <td>0.904398</td>\n",
       "      <td>0.498873</td>\n",
       "    </tr>\n",
       "    <tr>\n",
       "      <td>2</td>\n",
       "      <td>-0.672789</td>\n",
       "      <td>0.736036</td>\n",
       "      <td>-0.766778</td>\n",
       "      <td>1.175271</td>\n",
       "      <td>0.115759</td>\n",
       "      <td>-1.021334</td>\n",
       "      <td>0.428259</td>\n",
       "      <td>-0.630405</td>\n",
       "      <td>0.267940</td>\n",
       "      <td>0.044464</td>\n",
       "    </tr>\n",
       "    <tr>\n",
       "      <td>3</td>\n",
       "      <td>0.291179</td>\n",
       "      <td>0.309849</td>\n",
       "      <td>-0.199953</td>\n",
       "      <td>0.210654</td>\n",
       "      <td>-0.253905</td>\n",
       "      <td>-0.333935</td>\n",
       "      <td>1.338924</td>\n",
       "      <td>-0.625454</td>\n",
       "      <td>0.717380</td>\n",
       "      <td>1.324913</td>\n",
       "    </tr>\n",
       "    <tr>\n",
       "      <td>4</td>\n",
       "      <td>0.055663</td>\n",
       "      <td>0.251089</td>\n",
       "      <td>-0.428633</td>\n",
       "      <td>0.127917</td>\n",
       "      <td>0.126947</td>\n",
       "      <td>-0.251523</td>\n",
       "      <td>0.846040</td>\n",
       "      <td>-0.084933</td>\n",
       "      <td>1.053690</td>\n",
       "      <td>0.625737</td>\n",
       "    </tr>\n",
       "    <tr>\n",
       "      <td>...</td>\n",
       "      <td>...</td>\n",
       "      <td>...</td>\n",
       "      <td>...</td>\n",
       "      <td>...</td>\n",
       "      <td>...</td>\n",
       "      <td>...</td>\n",
       "      <td>...</td>\n",
       "      <td>...</td>\n",
       "      <td>...</td>\n",
       "      <td>...</td>\n",
       "    </tr>\n",
       "    <tr>\n",
       "      <td>1595</td>\n",
       "      <td>-0.094393</td>\n",
       "      <td>-1.973084</td>\n",
       "      <td>0.447165</td>\n",
       "      <td>-1.288705</td>\n",
       "      <td>0.160295</td>\n",
       "      <td>0.259123</td>\n",
       "      <td>-1.111079</td>\n",
       "      <td>1.200493</td>\n",
       "      <td>1.119860</td>\n",
       "      <td>-0.862117</td>\n",
       "    </tr>\n",
       "    <tr>\n",
       "      <td>1596</td>\n",
       "      <td>0.688057</td>\n",
       "      <td>-1.071831</td>\n",
       "      <td>0.632891</td>\n",
       "      <td>-1.134632</td>\n",
       "      <td>-0.327479</td>\n",
       "      <td>1.004952</td>\n",
       "      <td>0.190820</td>\n",
       "      <td>-0.935124</td>\n",
       "      <td>0.138752</td>\n",
       "      <td>-0.255794</td>\n",
       "    </tr>\n",
       "    <tr>\n",
       "      <td>1597</td>\n",
       "      <td>-0.559076</td>\n",
       "      <td>0.898574</td>\n",
       "      <td>-0.887696</td>\n",
       "      <td>0.745658</td>\n",
       "      <td>1.799536</td>\n",
       "      <td>0.934957</td>\n",
       "      <td>0.195270</td>\n",
       "      <td>-0.823871</td>\n",
       "      <td>0.560617</td>\n",
       "      <td>-0.067102</td>\n",
       "    </tr>\n",
       "    <tr>\n",
       "      <td>1598</td>\n",
       "      <td>1.108120</td>\n",
       "      <td>-2.404894</td>\n",
       "      <td>1.776873</td>\n",
       "      <td>-2.140560</td>\n",
       "      <td>-0.083434</td>\n",
       "      <td>-0.215289</td>\n",
       "      <td>0.385063</td>\n",
       "      <td>-0.475371</td>\n",
       "      <td>1.007878</td>\n",
       "      <td>0.021653</td>\n",
       "    </tr>\n",
       "    <tr>\n",
       "      <td>1599</td>\n",
       "      <td>1.032285</td>\n",
       "      <td>-1.490086</td>\n",
       "      <td>1.956189</td>\n",
       "      <td>-1.956479</td>\n",
       "      <td>-0.800073</td>\n",
       "      <td>0.438661</td>\n",
       "      <td>0.332943</td>\n",
       "      <td>-0.631812</td>\n",
       "      <td>0.878364</td>\n",
       "      <td>-0.051295</td>\n",
       "    </tr>\n",
       "  </tbody>\n",
       "</table>\n",
       "<p>1600 rows × 10 columns</p>\n",
       "</div>"
      ],
      "text/plain": [
       "      Energy_H  Entropy_H  Kurtosis_H  Skewness_H  Variance_H  Energy_H.1  \\\n",
       "0    -0.110679   0.423947   -0.391277    0.355951   -0.183506   -0.631378   \n",
       "1     0.147303   0.470939   -0.381687    0.327270   -0.139225   -0.364966   \n",
       "2    -0.672789   0.736036   -0.766778    1.175271    0.115759   -1.021334   \n",
       "3     0.291179   0.309849   -0.199953    0.210654   -0.253905   -0.333935   \n",
       "4     0.055663   0.251089   -0.428633    0.127917    0.126947   -0.251523   \n",
       "...        ...        ...         ...         ...         ...         ...   \n",
       "1595 -0.094393  -1.973084    0.447165   -1.288705    0.160295    0.259123   \n",
       "1596  0.688057  -1.071831    0.632891   -1.134632   -0.327479    1.004952   \n",
       "1597 -0.559076   0.898574   -0.887696    0.745658    1.799536    0.934957   \n",
       "1598  1.108120  -2.404894    1.776873   -2.140560   -0.083434   -0.215289   \n",
       "1599  1.032285  -1.490086    1.956189   -1.956479   -0.800073    0.438661   \n",
       "\n",
       "      Entropy_H.1  Kurtosis_H.1  Skewness_H.1  Variance_H.1  \n",
       "0        0.161116      0.096084      0.576008     -0.234984  \n",
       "1        0.834642     -0.399588      0.904398      0.498873  \n",
       "2        0.428259     -0.630405      0.267940      0.044464  \n",
       "3        1.338924     -0.625454      0.717380      1.324913  \n",
       "4        0.846040     -0.084933      1.053690      0.625737  \n",
       "...           ...           ...           ...           ...  \n",
       "1595    -1.111079      1.200493      1.119860     -0.862117  \n",
       "1596     0.190820     -0.935124      0.138752     -0.255794  \n",
       "1597     0.195270     -0.823871      0.560617     -0.067102  \n",
       "1598     0.385063     -0.475371      1.007878      0.021653  \n",
       "1599     0.332943     -0.631812      0.878364     -0.051295  \n",
       "\n",
       "[1600 rows x 10 columns]"
      ]
     },
     "execution_count": 20,
     "metadata": {},
     "output_type": "execute_result"
    }
   ],
   "source": [
    "df = HE.iloc[:,1:]\n",
    "\n",
    "HE_scaled = (df - df.mean()) / df.std()\n",
    "\n",
    "HE_scaled"
   ]
  },
  {
   "cell_type": "markdown",
   "metadata": {},
   "source": [
    "### Data Normalization for LSTM"
   ]
  },
  {
   "cell_type": "code",
   "execution_count": 5,
   "metadata": {},
   "outputs": [
    {
     "data": {
      "text/html": [
       "<div>\n",
       "<style scoped>\n",
       "    .dataframe tbody tr th:only-of-type {\n",
       "        vertical-align: middle;\n",
       "    }\n",
       "\n",
       "    .dataframe tbody tr th {\n",
       "        vertical-align: top;\n",
       "    }\n",
       "\n",
       "    .dataframe thead th {\n",
       "        text-align: right;\n",
       "    }\n",
       "</style>\n",
       "<table border=\"1\" class=\"dataframe\">\n",
       "  <thead>\n",
       "    <tr style=\"text-align: right;\">\n",
       "      <th></th>\n",
       "      <th>Energy</th>\n",
       "      <th>Entropy</th>\n",
       "      <th>Kurtosis</th>\n",
       "      <th>Skewness</th>\n",
       "      <th>Variance</th>\n",
       "    </tr>\n",
       "  </thead>\n",
       "  <tbody>\n",
       "    <tr>\n",
       "      <td>0</td>\n",
       "      <td>-0.110679</td>\n",
       "      <td>0.423947</td>\n",
       "      <td>-0.391277</td>\n",
       "      <td>0.355951</td>\n",
       "      <td>-0.183506</td>\n",
       "    </tr>\n",
       "    <tr>\n",
       "      <td>1</td>\n",
       "      <td>0.147303</td>\n",
       "      <td>0.470939</td>\n",
       "      <td>-0.381687</td>\n",
       "      <td>0.327270</td>\n",
       "      <td>-0.139225</td>\n",
       "    </tr>\n",
       "    <tr>\n",
       "      <td>2</td>\n",
       "      <td>-0.672789</td>\n",
       "      <td>0.736036</td>\n",
       "      <td>-0.766778</td>\n",
       "      <td>1.175271</td>\n",
       "      <td>0.115759</td>\n",
       "    </tr>\n",
       "    <tr>\n",
       "      <td>3</td>\n",
       "      <td>0.291179</td>\n",
       "      <td>0.309849</td>\n",
       "      <td>-0.199953</td>\n",
       "      <td>0.210654</td>\n",
       "      <td>-0.253905</td>\n",
       "    </tr>\n",
       "    <tr>\n",
       "      <td>4</td>\n",
       "      <td>0.055663</td>\n",
       "      <td>0.251089</td>\n",
       "      <td>-0.428633</td>\n",
       "      <td>0.127917</td>\n",
       "      <td>0.126947</td>\n",
       "    </tr>\n",
       "    <tr>\n",
       "      <td>...</td>\n",
       "      <td>...</td>\n",
       "      <td>...</td>\n",
       "      <td>...</td>\n",
       "      <td>...</td>\n",
       "      <td>...</td>\n",
       "    </tr>\n",
       "    <tr>\n",
       "      <td>1595</td>\n",
       "      <td>-0.094393</td>\n",
       "      <td>-1.973084</td>\n",
       "      <td>0.447165</td>\n",
       "      <td>-1.288705</td>\n",
       "      <td>0.160295</td>\n",
       "    </tr>\n",
       "    <tr>\n",
       "      <td>1596</td>\n",
       "      <td>0.688057</td>\n",
       "      <td>-1.071831</td>\n",
       "      <td>0.632891</td>\n",
       "      <td>-1.134632</td>\n",
       "      <td>-0.327479</td>\n",
       "    </tr>\n",
       "    <tr>\n",
       "      <td>1597</td>\n",
       "      <td>-0.559076</td>\n",
       "      <td>0.898574</td>\n",
       "      <td>-0.887696</td>\n",
       "      <td>0.745658</td>\n",
       "      <td>1.799536</td>\n",
       "    </tr>\n",
       "    <tr>\n",
       "      <td>1598</td>\n",
       "      <td>1.108120</td>\n",
       "      <td>-2.404894</td>\n",
       "      <td>1.776873</td>\n",
       "      <td>-2.140560</td>\n",
       "      <td>-0.083434</td>\n",
       "    </tr>\n",
       "    <tr>\n",
       "      <td>1599</td>\n",
       "      <td>1.032285</td>\n",
       "      <td>-1.490086</td>\n",
       "      <td>1.956189</td>\n",
       "      <td>-1.956479</td>\n",
       "      <td>-0.800073</td>\n",
       "    </tr>\n",
       "  </tbody>\n",
       "</table>\n",
       "<p>1600 rows × 5 columns</p>\n",
       "</div>"
      ],
      "text/plain": [
       "        Energy   Entropy  Kurtosis  Skewness  Variance\n",
       "0    -0.110679  0.423947 -0.391277  0.355951 -0.183506\n",
       "1     0.147303  0.470939 -0.381687  0.327270 -0.139225\n",
       "2    -0.672789  0.736036 -0.766778  1.175271  0.115759\n",
       "3     0.291179  0.309849 -0.199953  0.210654 -0.253905\n",
       "4     0.055663  0.251089 -0.428633  0.127917  0.126947\n",
       "...        ...       ...       ...       ...       ...\n",
       "1595 -0.094393 -1.973084  0.447165 -1.288705  0.160295\n",
       "1596  0.688057 -1.071831  0.632891 -1.134632 -0.327479\n",
       "1597 -0.559076  0.898574 -0.887696  0.745658  1.799536\n",
       "1598  1.108120 -2.404894  1.776873 -2.140560 -0.083434\n",
       "1599  1.032285 -1.490086  1.956189 -1.956479 -0.800073\n",
       "\n",
       "[1600 rows x 5 columns]"
      ]
     },
     "execution_count": 5,
     "metadata": {},
     "output_type": "execute_result"
    }
   ],
   "source": [
    "## Data Normalization for H or HE\n",
    "\n",
    "df = H.iloc[:,1:]\n",
    "\n",
    "H_scaled = (df - df.mean()) / df.std()\n",
    "\n",
    "H_scaled"
   ]
  },
  {
   "cell_type": "code",
   "execution_count": 6,
   "metadata": {},
   "outputs": [
    {
     "data": {
      "text/html": [
       "<div>\n",
       "<style scoped>\n",
       "    .dataframe tbody tr th:only-of-type {\n",
       "        vertical-align: middle;\n",
       "    }\n",
       "\n",
       "    .dataframe tbody tr th {\n",
       "        vertical-align: top;\n",
       "    }\n",
       "\n",
       "    .dataframe thead th {\n",
       "        text-align: right;\n",
       "    }\n",
       "</style>\n",
       "<table border=\"1\" class=\"dataframe\">\n",
       "  <thead>\n",
       "    <tr style=\"text-align: right;\">\n",
       "      <th></th>\n",
       "      <th>Energy</th>\n",
       "      <th>Entropy</th>\n",
       "      <th>Kurtosis</th>\n",
       "      <th>Skewness</th>\n",
       "      <th>Variance</th>\n",
       "    </tr>\n",
       "  </thead>\n",
       "  <tbody>\n",
       "    <tr>\n",
       "      <td>0</td>\n",
       "      <td>-0.631378</td>\n",
       "      <td>0.161116</td>\n",
       "      <td>0.096084</td>\n",
       "      <td>0.576008</td>\n",
       "      <td>-0.234984</td>\n",
       "    </tr>\n",
       "    <tr>\n",
       "      <td>1</td>\n",
       "      <td>-0.364966</td>\n",
       "      <td>0.834642</td>\n",
       "      <td>-0.399588</td>\n",
       "      <td>0.904398</td>\n",
       "      <td>0.498873</td>\n",
       "    </tr>\n",
       "    <tr>\n",
       "      <td>2</td>\n",
       "      <td>-1.021334</td>\n",
       "      <td>0.428259</td>\n",
       "      <td>-0.630405</td>\n",
       "      <td>0.267940</td>\n",
       "      <td>0.044464</td>\n",
       "    </tr>\n",
       "    <tr>\n",
       "      <td>3</td>\n",
       "      <td>-0.333935</td>\n",
       "      <td>1.338924</td>\n",
       "      <td>-0.625454</td>\n",
       "      <td>0.717380</td>\n",
       "      <td>1.324913</td>\n",
       "    </tr>\n",
       "    <tr>\n",
       "      <td>4</td>\n",
       "      <td>-0.251523</td>\n",
       "      <td>0.846040</td>\n",
       "      <td>-0.084933</td>\n",
       "      <td>1.053690</td>\n",
       "      <td>0.625737</td>\n",
       "    </tr>\n",
       "    <tr>\n",
       "      <td>...</td>\n",
       "      <td>...</td>\n",
       "      <td>...</td>\n",
       "      <td>...</td>\n",
       "      <td>...</td>\n",
       "      <td>...</td>\n",
       "    </tr>\n",
       "    <tr>\n",
       "      <td>1595</td>\n",
       "      <td>0.259123</td>\n",
       "      <td>-1.111079</td>\n",
       "      <td>1.200493</td>\n",
       "      <td>1.119860</td>\n",
       "      <td>-0.862117</td>\n",
       "    </tr>\n",
       "    <tr>\n",
       "      <td>1596</td>\n",
       "      <td>1.004952</td>\n",
       "      <td>0.190820</td>\n",
       "      <td>-0.935124</td>\n",
       "      <td>0.138752</td>\n",
       "      <td>-0.255794</td>\n",
       "    </tr>\n",
       "    <tr>\n",
       "      <td>1597</td>\n",
       "      <td>0.934957</td>\n",
       "      <td>0.195270</td>\n",
       "      <td>-0.823871</td>\n",
       "      <td>0.560617</td>\n",
       "      <td>-0.067102</td>\n",
       "    </tr>\n",
       "    <tr>\n",
       "      <td>1598</td>\n",
       "      <td>-0.215289</td>\n",
       "      <td>0.385063</td>\n",
       "      <td>-0.475371</td>\n",
       "      <td>1.007878</td>\n",
       "      <td>0.021653</td>\n",
       "    </tr>\n",
       "    <tr>\n",
       "      <td>1599</td>\n",
       "      <td>0.438661</td>\n",
       "      <td>0.332943</td>\n",
       "      <td>-0.631812</td>\n",
       "      <td>0.878364</td>\n",
       "      <td>-0.051295</td>\n",
       "    </tr>\n",
       "  </tbody>\n",
       "</table>\n",
       "<p>1600 rows × 5 columns</p>\n",
       "</div>"
      ],
      "text/plain": [
       "        Energy   Entropy  Kurtosis  Skewness  Variance\n",
       "0    -0.631378  0.161116  0.096084  0.576008 -0.234984\n",
       "1    -0.364966  0.834642 -0.399588  0.904398  0.498873\n",
       "2    -1.021334  0.428259 -0.630405  0.267940  0.044464\n",
       "3    -0.333935  1.338924 -0.625454  0.717380  1.324913\n",
       "4    -0.251523  0.846040 -0.084933  1.053690  0.625737\n",
       "...        ...       ...       ...       ...       ...\n",
       "1595  0.259123 -1.111079  1.200493  1.119860 -0.862117\n",
       "1596  1.004952  0.190820 -0.935124  0.138752 -0.255794\n",
       "1597  0.934957  0.195270 -0.823871  0.560617 -0.067102\n",
       "1598 -0.215289  0.385063 -0.475371  1.007878  0.021653\n",
       "1599  0.438661  0.332943 -0.631812  0.878364 -0.051295\n",
       "\n",
       "[1600 rows x 5 columns]"
      ]
     },
     "execution_count": 6,
     "metadata": {},
     "output_type": "execute_result"
    }
   ],
   "source": [
    "df = E.iloc[:,1:]\n",
    "\n",
    "E_scaled =  (df - df.mean()) / df.std()\n",
    "\n",
    "E_scaled"
   ]
  },
  {
   "cell_type": "markdown",
   "metadata": {},
   "source": [
    "### Convert Scaled Data to Array and Data Label to Categorical"
   ]
  },
  {
   "cell_type": "code",
   "execution_count": 7,
   "metadata": {},
   "outputs": [
    {
     "name": "stdout",
     "output_type": "stream",
     "text": [
      "(1600, 5)\n",
      "(1600, 2)\n"
     ]
    }
   ],
   "source": [
    "H_test_data = np.asarray(H_scaled)\n",
    "H_test_data_label = np.asarray(H_labels)\n",
    "H_test_data_label = to_categorical(H_test_data_label)\n",
    "\n",
    "print(H_test_data.shape)\n",
    "print(H_test_data_label.shape)\n"
   ]
  },
  {
   "cell_type": "code",
   "execution_count": 8,
   "metadata": {},
   "outputs": [
    {
     "name": "stdout",
     "output_type": "stream",
     "text": [
      "(1600, 5)\n",
      "(1600, 2)\n"
     ]
    }
   ],
   "source": [
    "## E_Data\n",
    "\n",
    "E_test_data = np.asarray(E_scaled)\n",
    "E_test_data_label = np.asarray(E_labels)\n",
    "E_test_data_label = to_categorical(E_test_data_label)\n",
    "\n",
    "print(E_test_data.shape)\n",
    "print(E_test_data_label.shape)\n"
   ]
  },
  {
   "cell_type": "markdown",
   "metadata": {},
   "source": [
    "### Data Reshape for LSTM"
   ]
  },
  {
   "cell_type": "code",
   "execution_count": 9,
   "metadata": {},
   "outputs": [
    {
     "data": {
      "text/plain": [
       "(1600, 5, 1)"
      ]
     },
     "execution_count": 9,
     "metadata": {},
     "output_type": "execute_result"
    }
   ],
   "source": [
    "H_X_test = H_test_data.reshape((H_test_data.shape[0], H_test_data.shape[1], 1))\n",
    "\n",
    "H_X_test.shape\n"
   ]
  },
  {
   "cell_type": "code",
   "execution_count": 10,
   "metadata": {},
   "outputs": [
    {
     "data": {
      "text/plain": [
       "(1600, 5, 1)"
      ]
     },
     "execution_count": 10,
     "metadata": {},
     "output_type": "execute_result"
    }
   ],
   "source": [
    "E_X_test = E_test_data.reshape((E_test_data.shape[0], E_test_data.shape[1], 1))\n",
    "\n",
    "E_X_test.shape\n"
   ]
  },
  {
   "cell_type": "markdown",
   "metadata": {},
   "source": [
    "### Dual-Channel LSTM Model"
   ]
  },
  {
   "cell_type": "code",
   "execution_count": 11,
   "metadata": {},
   "outputs": [],
   "source": [
    "def RNN(mode):\n",
    "    \n",
    "    Hinputs = Input(name='Hinputs',shape=(H_X_test.shape[1], H_X_test.shape[2]))\n",
    "    \n",
    "    Hlayer = Bidirectional(LSTM(64, return_sequences=True, activation=\"tanh\", recurrent_activation=\"sigmoid\", use_bias=True,\n",
    "                                bias_initializer=\"zeros\", recurrent_dropout=0.7, kernel_initializer=\"glorot_uniform\",\n",
    "                                recurrent_initializer=\"orthogonal\"))(Hinputs)\n",
    "    Hlayer = Bidirectional(LSTM(64, recurrent_activation=\"sigmoid\", use_bias=True, activation=\"tanh\", bias_initializer=\"zeros\", \n",
    "                                recurrent_dropout=0.7, kernel_initializer=\"glorot_uniform\", \n",
    "                                recurrent_initializer=\"orthogonal\"))(Hlayer)\n",
    "    \n",
    "    Einputs = Input(name='Einputs',shape=(E_X_test.shape[1], E_X_test.shape[2]))\n",
    "    \n",
    "    Elayer = Bidirectional(LSTM(64, return_sequences=True, activation=\"tanh\", recurrent_activation=\"sigmoid\", use_bias=True,\n",
    "                                bias_initializer=\"zeros\", recurrent_dropout=0.7, kernel_initializer=\"glorot_uniform\",\n",
    "                               recurrent_initializer=\"orthogonal\"))(Einputs)\n",
    "    Elayer = Bidirectional(LSTM(64, activation=\"tanh\", recurrent_activation=\"sigmoid\", use_bias=True,\n",
    "                                bias_initializer=\"zeros\", recurrent_dropout=0.7, kernel_initializer=\"glorot_uniform\",\n",
    "                                recurrent_initializer=\"orthogonal\"))(Elayer)\n",
    "\n",
    "    Cont_HE = concatenate([Hlayer, Elayer])\n",
    "    \n",
    "    HElayer = Dense(2, name='out_layer')(Cont_HE)\n",
    "    HElayer = Activation('sigmoid')(HElayer)\n",
    "    model = Model(inputs=[Hinputs, Einputs], outputs=HElayer)\n",
    "    \n",
    "    return model\n"
   ]
  },
  {
   "cell_type": "markdown",
   "metadata": {},
   "source": [
    "### Model Architecture After Building The Model"
   ]
  },
  {
   "cell_type": "code",
   "execution_count": 12,
   "metadata": {},
   "outputs": [
    {
     "name": "stderr",
     "output_type": "stream",
     "text": [
      "WARNING: Logging before flag parsing goes to stderr.\n",
      "W0310 00:18:08.548688   604 deprecation_wrapper.py:119] From c:\\users\\subrata\\anaconda3\\envs\\deeplearning\\lib\\site-packages\\keras\\backend\\tensorflow_backend.py:517: The name tf.placeholder is deprecated. Please use tf.compat.v1.placeholder instead.\n",
      "\n",
      "W0310 00:18:08.607647   604 deprecation_wrapper.py:119] From c:\\users\\subrata\\anaconda3\\envs\\deeplearning\\lib\\site-packages\\keras\\backend\\tensorflow_backend.py:74: The name tf.get_default_graph is deprecated. Please use tf.compat.v1.get_default_graph instead.\n",
      "\n",
      "W0310 00:18:08.612645   604 deprecation_wrapper.py:119] From c:\\users\\subrata\\anaconda3\\envs\\deeplearning\\lib\\site-packages\\keras\\backend\\tensorflow_backend.py:4138: The name tf.random_uniform is deprecated. Please use tf.random.uniform instead.\n",
      "\n",
      "W0310 00:18:08.909690   604 deprecation_wrapper.py:119] From c:\\users\\subrata\\anaconda3\\envs\\deeplearning\\lib\\site-packages\\keras\\backend\\tensorflow_backend.py:133: The name tf.placeholder_with_default is deprecated. Please use tf.compat.v1.placeholder_with_default instead.\n",
      "\n",
      "W0310 00:18:08.928164   604 deprecation.py:506] From c:\\users\\subrata\\anaconda3\\envs\\deeplearning\\lib\\site-packages\\keras\\backend\\tensorflow_backend.py:3445: calling dropout (from tensorflow.python.ops.nn_ops) with keep_prob is deprecated and will be removed in a future version.\n",
      "Instructions for updating:\n",
      "Please use `rate` instead of `keep_prob`. Rate should be set to `rate = 1 - keep_prob`.\n",
      "W0310 00:18:08.930163   604 nn_ops.py:4224] Large dropout rate: 0.7 (>0.5). In TensorFlow 2.x, dropout() uses dropout rate instead of keep_prob. Please ensure that this is intended.\n",
      "W0310 00:18:08.969163   604 nn_ops.py:4224] Large dropout rate: 0.7 (>0.5). In TensorFlow 2.x, dropout() uses dropout rate instead of keep_prob. Please ensure that this is intended.\n",
      "W0310 00:18:09.008164   604 nn_ops.py:4224] Large dropout rate: 0.7 (>0.5). In TensorFlow 2.x, dropout() uses dropout rate instead of keep_prob. Please ensure that this is intended.\n",
      "W0310 00:18:09.036166   604 nn_ops.py:4224] Large dropout rate: 0.7 (>0.5). In TensorFlow 2.x, dropout() uses dropout rate instead of keep_prob. Please ensure that this is intended.\n",
      "W0310 00:18:09.234521   604 nn_ops.py:4224] Large dropout rate: 0.7 (>0.5). In TensorFlow 2.x, dropout() uses dropout rate instead of keep_prob. Please ensure that this is intended.\n"
     ]
    },
    {
     "name": "stdout",
     "output_type": "stream",
     "text": [
      "__________________________________________________________________________________________________\n",
      "Layer (type)                    Output Shape         Param #     Connected to                     \n",
      "==================================================================================================\n",
      "Hinputs (InputLayer)            (None, 5, 1)         0                                            \n",
      "__________________________________________________________________________________________________\n",
      "Einputs (InputLayer)            (None, 5, 1)         0                                            \n",
      "__________________________________________________________________________________________________\n",
      "bidirectional_1 (Bidirectional) (None, 5, 128)       33792       Hinputs[0][0]                    \n",
      "__________________________________________________________________________________________________\n",
      "bidirectional_3 (Bidirectional) (None, 5, 128)       33792       Einputs[0][0]                    \n",
      "__________________________________________________________________________________________________\n",
      "bidirectional_2 (Bidirectional) (None, 128)          98816       bidirectional_1[0][0]            \n",
      "__________________________________________________________________________________________________\n",
      "bidirectional_4 (Bidirectional) (None, 128)          98816       bidirectional_3[0][0]            \n",
      "__________________________________________________________________________________________________\n",
      "concatenate_1 (Concatenate)     (None, 256)          0           bidirectional_2[0][0]            \n",
      "                                                                 bidirectional_4[0][0]            \n",
      "__________________________________________________________________________________________________\n",
      "out_layer (Dense)               (None, 2)            514         concatenate_1[0][0]              \n",
      "__________________________________________________________________________________________________\n",
      "activation_1 (Activation)       (None, 2)            0           out_layer[0][0]                  \n",
      "==================================================================================================\n",
      "Total params: 265,730\n",
      "Trainable params: 265,730\n",
      "Non-trainable params: 0\n",
      "__________________________________________________________________________________________________\n"
     ]
    }
   ],
   "source": [
    "model = RNN('concat')\n",
    "model.summary()"
   ]
  },
  {
   "cell_type": "markdown",
   "metadata": {},
   "source": [
    "### Load Model Weights (LSTM)"
   ]
  },
  {
   "cell_type": "code",
   "execution_count": 13,
   "metadata": {},
   "outputs": [
    {
     "name": "stderr",
     "output_type": "stream",
     "text": [
      "W0310 00:18:16.802711   604 deprecation_wrapper.py:119] From c:\\users\\subrata\\anaconda3\\envs\\deeplearning\\lib\\site-packages\\keras\\backend\\tensorflow_backend.py:174: The name tf.get_default_session is deprecated. Please use tf.compat.v1.get_default_session instead.\n",
      "\n"
     ]
    }
   ],
   "source": [
    "model.load_weights('HE_LSTM_FOS.h5')"
   ]
  },
  {
   "cell_type": "markdown",
   "metadata": {},
   "source": [
    "### Compile The Model"
   ]
  },
  {
   "cell_type": "code",
   "execution_count": 14,
   "metadata": {},
   "outputs": [
    {
     "name": "stderr",
     "output_type": "stream",
     "text": [
      "W0310 00:18:20.822012   604 deprecation_wrapper.py:119] From c:\\users\\subrata\\anaconda3\\envs\\deeplearning\\lib\\site-packages\\keras\\optimizers.py:790: The name tf.train.Optimizer is deprecated. Please use tf.compat.v1.train.Optimizer instead.\n",
      "\n",
      "W0310 00:18:20.862014   604 deprecation.py:323] From c:\\users\\subrata\\anaconda3\\envs\\deeplearning\\lib\\site-packages\\tensorflow\\python\\ops\\nn_impl.py:180: add_dispatch_support.<locals>.wrapper (from tensorflow.python.ops.array_ops) is deprecated and will be removed in a future version.\n",
      "Instructions for updating:\n",
      "Use tf.where in 2.0, which has the same broadcast rule as np.where\n"
     ]
    }
   ],
   "source": [
    "model.compile(loss=\"binary_crossentropy\", optimizer= 'sgd', metrics=['accuracy', 'categorical_accuracy'])"
   ]
  },
  {
   "cell_type": "markdown",
   "metadata": {},
   "source": [
    "### Evaluate The Model Using Test Set"
   ]
  },
  {
   "cell_type": "code",
   "execution_count": 15,
   "metadata": {},
   "outputs": [
    {
     "name": "stdout",
     "output_type": "stream",
     "text": [
      "-- Evaluate --\n",
      "1600/1600 [==============================] - ETA: 1: - ETA: 30s - ETA: 18 - ETA: 13 - ETA: 10 - ETA: 8 - ETA:  - ETA:  - ETA:  - ETA:  - ETA:  - ETA:  - ETA:  - ETA:  - ETA:  - ETA:  - ETA:  - ETA:  - ETA:  - ETA:  - ETA:  - ETA:  - ETA:  - ETA:  - ETA:  - 4s 2ms/step\n"
     ]
    }
   ],
   "source": [
    "print(\"-- Evaluate --\")\n",
    "\n",
    "scores = model.evaluate([H_X_test, E_X_test], H_test_data_label, verbose=1)"
   ]
  },
  {
   "cell_type": "markdown",
   "metadata": {},
   "source": [
    "### Print Accuracy"
   ]
  },
  {
   "cell_type": "code",
   "execution_count": 16,
   "metadata": {},
   "outputs": [
    {
     "name": "stdout",
     "output_type": "stream",
     "text": [
      "acc: 93.59%\n",
      "loss: 17.30%\n"
     ]
    }
   ],
   "source": [
    "print(\"%s: %.2f%%\" %(model.metrics_names[1], scores[1]*100))\n",
    "print(\"%s: %.2f%%\" %(model.metrics_names[0], scores[0]*100))"
   ]
  },
  {
   "cell_type": "markdown",
   "metadata": {},
   "source": [
    "### Prediction"
   ]
  },
  {
   "cell_type": "code",
   "execution_count": 17,
   "metadata": {},
   "outputs": [
    {
     "name": "stdout",
     "output_type": "stream",
     "text": [
      "1600/1600 [==============================] - ETA: 2: - ETA: 53s - ETA: 34 - ETA: 25 - ETA: 21 - ETA: 18 - ETA: 16 - ETA: 14 - ETA: 13 - ETA: 12 - ETA: 11 - ETA: 10 - ETA: 10 - ETA: 9 - ETA:  - ETA:  - ETA:  - ETA:  - ETA:  - ETA:  - ETA:  - ETA:  - ETA:  - ETA:  - ETA:  - ETA:  - ETA:  - ETA:  - ETA:  - ETA:  - ETA:  - ETA:  - ETA:  - ETA:  - ETA:  - ETA:  - ETA:  - ETA:  - ETA:  - ETA:  - ETA:  - ETA:  - ETA:  - ETA:  - ETA:  - ETA:  - ETA:  - ETA:  - ETA:  - ETA:  - ETA:  - ETA:  - ETA:  - ETA:  - ETA:  - ETA:  - ETA:  - ETA:  - ETA:  - ETA:  - ETA:  - ETA:  - ETA:  - ETA:  - ETA:  - ETA:  - ETA:  - ETA:  - ETA:  - ETA:  - ETA:  - ETA:  - ETA:  - ETA:  - ETA:  - ETA:  - ETA:  - ETA:  - ETA:  - ETA:  - ETA:  - ETA:  - ETA:  - ETA:  - ETA:  - ETA:  - ETA:  - ETA:  - ETA:  - ETA:  - ETA:  - ETA:  - ETA:  - ETA:  - ETA:  - ETA:  - ETA:  - ETA:  - ETA:  - ETA:  - 6s 4ms/step\n"
     ]
    }
   ],
   "source": [
    "from sklearn.metrics import accuracy_score\n",
    "from sklearn.metrics import confusion_matrix, classification_report\n",
    "\n",
    "preds_Y = model.predict([H_X_test, E_X_test], batch_size = 8, verbose = 1)\n",
    "\n",
    "preds = np.argmax(preds_Y, -1)\n",
    "label_Y = np.argmax(H_test_data_label, -1)"
   ]
  },
  {
   "cell_type": "markdown",
   "metadata": {},
   "source": [
    "### Confusio Matrix & Classification Report"
   ]
  },
  {
   "cell_type": "code",
   "execution_count": 18,
   "metadata": {},
   "outputs": [
    {
     "name": "stdout",
     "output_type": "stream",
     "text": [
      "              precision    recall  f1-score   support\n",
      "\n",
      "           0       0.91      0.96      0.94       800\n",
      "           1       0.96      0.91      0.93       800\n",
      "\n",
      "    accuracy                           0.94      1600\n",
      "   macro avg       0.94      0.94      0.94      1600\n",
      "weighted avg       0.94      0.94      0.94      1600\n",
      "\n",
      "[[771  29]\n",
      " [ 74 726]]\n"
     ]
    }
   ],
   "source": [
    "print(classification_report(label_Y, preds))\n",
    "\n",
    "print(confusion_matrix(label_Y, preds))"
   ]
  },
  {
   "cell_type": "markdown",
   "metadata": {},
   "source": [
    "### Machine Learning Classification"
   ]
  },
  {
   "cell_type": "code",
   "execution_count": 21,
   "metadata": {},
   "outputs": [],
   "source": [
    "## Load necessary libraries\n",
    "\n",
    "from sklearn.linear_model import LogisticRegression\n",
    "from sklearn.linear_model import LogisticRegressionCV\n",
    "from sklearn.model_selection import cross_val_score\n",
    "from sklearn.neighbors import KNeighborsClassifier\n",
    "from sklearn.naive_bayes import GaussianNB\n",
    "from sklearn import svm\n",
    "from sklearn.svm import SVC\n",
    "from sklearn.calibration import CalibratedClassifierCV \n",
    "from sklearn.ensemble import RandomForestClassifier\n",
    "from sklearn.naive_bayes import GaussianNB\n",
    "from sklearn.discriminant_analysis import LinearDiscriminantAnalysis\n",
    "\n",
    "from sklearn.neural_network import MLPClassifier\n",
    "\n",
    "from sklearn.model_selection import cross_val_score\n",
    "from sklearn.model_selection import RandomizedSearchCV\n",
    "from sklearn.ensemble import VotingClassifier\n",
    "from sklearn.metrics import confusion_matrix, accuracy_score, classification_report\n",
    "\n",
    "\n",
    "\n",
    "from sklearn.ensemble import GradientBoostingClassifier\n",
    "from sklearn.ensemble import AdaBoostClassifier\n",
    "from sklearn.ensemble import BaggingClassifier\n",
    "\n",
    "from sklearn.pipeline import Pipeline\n",
    "from sklearn.model_selection import RepeatedStratifiedKFold\n",
    "from sklearn.model_selection import cross_val_score\n",
    "\n",
    "from sklearn.feature_selection import RFE\n",
    "from sklearn.model_selection import StratifiedKFold\n",
    "from sklearn import model_selection\n",
    "\n",
    "from sklearn.metrics import roc_auc_score\n"
   ]
  },
  {
   "cell_type": "markdown",
   "metadata": {},
   "source": [
    "### Load All The Models"
   ]
  },
  {
   "cell_type": "code",
   "execution_count": 22,
   "metadata": {},
   "outputs": [],
   "source": [
    "SVM = 'SVM.sav'\n",
    "\n",
    "loaded_SVM = pickle.load(open(SVM, 'rb'))"
   ]
  },
  {
   "cell_type": "code",
   "execution_count": 23,
   "metadata": {},
   "outputs": [],
   "source": [
    "LR = 'LR.sav'\n",
    "\n",
    "loaded_LR = pickle.load(open(LR, 'rb'))"
   ]
  },
  {
   "cell_type": "code",
   "execution_count": 24,
   "metadata": {},
   "outputs": [],
   "source": [
    "Bagging = 'Bagging.sav'\n",
    "\n",
    "loaded_Bagging = pickle.load(open(Bagging, 'rb'))"
   ]
  },
  {
   "cell_type": "code",
   "execution_count": 25,
   "metadata": {},
   "outputs": [],
   "source": [
    "Boost = 'Adaboost.sav'\n",
    "\n",
    "loaded_Adaboost = pickle.load(open(Boost, 'rb'))"
   ]
  },
  {
   "cell_type": "markdown",
   "metadata": {},
   "source": [
    "### Prediction And Result of Classification"
   ]
  },
  {
   "cell_type": "code",
   "execution_count": 26,
   "metadata": {},
   "outputs": [],
   "source": [
    "Predict = loaded_SVM.predict(HE_scaled)"
   ]
  },
  {
   "cell_type": "code",
   "execution_count": 27,
   "metadata": {},
   "outputs": [
    {
     "name": "stdout",
     "output_type": "stream",
     "text": [
      "Accuracy on Test Data: 85.19%\n",
      "              precision    recall  f1-score   support\n",
      "\n",
      "           0       0.82      0.90      0.86       800\n",
      "           1       0.89      0.81      0.85       800\n",
      "\n",
      "    accuracy                           0.85      1600\n",
      "   macro avg       0.85      0.85      0.85      1600\n",
      "weighted avg       0.85      0.85      0.85      1600\n",
      "\n",
      "[[716  84]\n",
      " [153 647]]\n"
     ]
    }
   ],
   "source": [
    "print('Accuracy on Test Data: %2.2f%%' % (accuracy_score(HE_labels, Predict)*100))\n",
    "\n",
    "print(classification_report(HE_labels, Predict))\n",
    "print(confusion_matrix(HE_labels, Predict))"
   ]
  },
  {
   "cell_type": "markdown",
   "metadata": {},
   "source": [
    "### Compute ROC Curve for Machine learnign Classifier"
   ]
  },
  {
   "cell_type": "code",
   "execution_count": null,
   "metadata": {},
   "outputs": [],
   "source": [
    "probs = loaded_Adaboost.predict_proba(HE_scaled) ## test data\n",
    "probs = probs[:, 1]\n",
    "n_prob = [0 for _ in range(len(HE_labels))]  ## test label\n",
    "n_auc = roc_auc_score(HE_labels, n_prob)\n",
    "l_auc = roc_auc_score(HE_labels, probs)\n",
    "\n",
    "from sklearn.metrics import roc_curve\n",
    "from matplotlib import pyplot\n",
    "\n",
    "###Set the font dictionaries (for plot title and axis titles)\n",
    "title_font = {'fontname':'Arial', 'size':'20', 'color':'black', 'weight':'normal',\n",
    "              'verticalalignment':'bottom'} # Bottom vertical alignment for more space\n",
    "axis_font = {'fontname':'Arial', 'size':'22', 'color':'black'}\n",
    "\n",
    "\n",
    "# ns_fpr, ns_tpr, _ = roc_curve(test_label, ts_probs) #baseline\n",
    "# lr2 , tr2, _ = roc_curve(test_label, preds1)\n",
    "\n",
    "ns, fs, _ = roc_curve(HE_labels, n_prob) #baseline\n",
    "lr , tr, _ = roc_curve(HE_labels, probs)\n",
    "\n",
    "print('AUC: ROC AUC=%.2f' % (l_auc*100))"
   ]
  },
  {
   "cell_type": "markdown",
   "metadata": {},
   "source": [
    "### Compute ROC curve For LSTM Model"
   ]
  },
  {
   "cell_type": "code",
   "execution_count": null,
   "metadata": {},
   "outputs": [],
   "source": [
    "from sklearn.preprocessing import label_binarize\n",
    "from sklearn.metrics import roc_curve, auc\n",
    "from itertools import cycle\n",
    "from matplotlib import pyplot\n",
    "from scipy import interp\n",
    "\n",
    "n_classes = 2\n",
    "\n",
    "fpr2 = dict()\n",
    "tpr2 = dict()\n",
    "thresholds2 = dict()\n",
    "roc_auc2 = dict()\n",
    "\n",
    "for i in range(n_classes):\n",
    "    fpr2[i], tpr2[i], thresholds2 = roc_curve(H_train_data_label[:, i], preds_Y[:, i])\n",
    "    roc_auc2[i] = auc(fpr2[i], tpr2[i])\n"
   ]
  },
  {
   "cell_type": "code",
   "execution_count": null,
   "metadata": {},
   "outputs": [],
   "source": [
    "# Compute macro-average ROC curve and ROC area\n",
    "\n",
    "# First aggregate all false positive rates\n",
    "all_fpr2 = np.unique(np.concatenate([fpr2[i] for i in range(n_classes)]))\n",
    "\n",
    "# Then interpolate all ROC curves at this points\n",
    "mean_tpr2 = np.zeros_like(all_fpr2)\n",
    "for i in range(n_classes):\n",
    "    mean_tpr2 += interp(all_fpr2, fpr2[i], tpr2[i])\n",
    "\n",
    "# Finally average it and compute AUC\n",
    "mean_tpr2 /= n_classes\n",
    "\n",
    "fpr2[\"macro\"] = all_fpr2\n",
    "tpr2[\"macro\"] = mean_tpr2\n",
    "roc_auc2[\"macro\"] = auc(fpr2[\"macro\"], tpr2[\"macro\"])\n"
   ]
  },
  {
   "cell_type": "markdown",
   "metadata": {},
   "source": [
    "### Plot ROC Curve"
   ]
  },
  {
   "cell_type": "code",
   "execution_count": 60,
   "metadata": {},
   "outputs": [
    {
     "data": {
      "image/png": "[encoded data removed]",
      "text/plain": [
       "<Figure size 720x720 with 1 Axes>"
      ]
     },
     "metadata": {
      "needs_background": "light"
     },
     "output_type": "display_data"
    }
   ],
   "source": [
    "title_font = {'fontname':'Arial', 'size':'18', 'color':'black', 'weight':'normal',\n",
    "              'verticalalignment':'bottom'} # Bottom vertical alignment for more space\n",
    "axis_font = {'fontname':'Arial', 'size':'20', 'color':'black'}\n",
    "\n",
    "fig = pyplot.figure(figsize=(10, 10))\n",
    "# pyplot.title(\"ROC Curve\", **title_font)\n",
    "pyplot.plot([0, 1], [0, 1], color='black', linestyle='--', label ='Base Line', linewidth=3, marker='.')\n",
    "pyplot.plot(fpr1[\"macro\"], tpr1[\"macro\"], label='DC-BiLSTM - Benign vs. Malignant (AUC = %0.2f)' % (roc_auc1[\"macro\"]), linewidth=3, marker='.')\n",
    "pyplot.plot(fpr2[\"macro\"], tpr2[\"macro\"], label='DC-BiLSTM - Grade 3 vs. Grade 5 (AUC = %0.2f)' % (roc_auc2[\"macro\"]), linewidth=3, marker='.')\n",
    "pyplot.plot(lr , tr, marker='.', label ='Boosting Tree - Benign vs. malignant (AUC = 0.95)', linewidth=3)\n",
    "\n",
    "plt.tick_params(labelsize=14)\n",
    "\n",
    "# axis labels\n",
    "pyplot.xlabel('False Positive Rate', **axis_font)\n",
    "pyplot.ylabel('True Positive Rate', **axis_font)\n",
    "# show the legend\n",
    "pyplot.tick_params(labelsize=18, labelcolor= \"black\")\n",
    "pyplot.legend(loc=\"lower right\", prop={\"size\":13})\n",
    "# show the plot\n",
    "pyplot.show()\n"
   ]
  }
 ],
 "metadata": {
  "kernelspec": {
   "display_name": "Python 3",
   "language": "python",
   "name": "python3"
  },
  "language_info": {
   "codemirror_mode": {
    "name": "ipython",
    "version": 3
   },
   "file_extension": ".py",
   "mimetype": "text/x-python",
   "name": "python",
   "nbconvert_exporter": "python",
   "pygments_lexer": "ipython3",
   "version": "3.6.9"
  }
 },
 "nbformat": 4,
 "nbformat_minor": 4
}
